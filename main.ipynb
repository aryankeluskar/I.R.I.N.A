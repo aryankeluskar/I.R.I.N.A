{
 "cells": [
  {
   "cell_type": "markdown",
   "metadata": {},
   "source": [
    "### I.R.I.N.A. - Inquisitive Riddler Investigating Navigational Arteries (in minesweeper) \n"
   ]
  },
  {
   "cell_type": "markdown",
   "metadata": {},
   "source": [
    "This notebook is in works, please visit later :)\n",
    "<br>\n",
    "Let's start by opening the minesweeper app from Downloads"
   ]
  },
  {
   "cell_type": "code",
   "execution_count": 7,
   "metadata": {},
   "outputs": [
    {
     "name": "stdout",
     "output_type": "stream",
     "text": [
      "Minesweeper opened successfully!\n"
     ]
    }
   ],
   "source": [
    "import subprocess\n",
    "import warnings\n",
    "\n",
    "# Suppress all warnings\n",
    "warnings.filterwarnings(\"ignore\")\n",
    "\n",
    "# Specify the path to the .exe file\n",
    "exe_path = 'Y:\\Downloads\\WINMINE.EXE'\n",
    "\n",
    "# Open the .exe file\n",
    "process = subprocess.Popen(exe_path)\n",
    "print('Minesweeper opened successfully!')"
   ]
  },
  {
   "cell_type": "markdown",
   "metadata": {},
   "source": [
    "Now that the app is opened, we should start controlling the interface."
   ]
  },
  {
   "cell_type": "code",
   "execution_count": 8,
   "metadata": {},
   "outputs": [
    {
     "name": "stdout",
     "output_type": "stream",
     "text": [
      "Color at cursor position (128, 238): OPENED, RAW IS (192, 192, 192)\n",
      "Color at cursor position (128, 258): ONE, RAW IS (0, 0, 255)\n",
      "Color at cursor position (128, 278): ONE, RAW IS (0, 0, 255)\n",
      "Color at cursor position (128, 298): ONE, RAW IS (0, 0, 255)\n",
      "Color at cursor position (128, 318): OPENED, RAW IS (192, 192, 192)\n",
      "Color at cursor position (128, 338): ONE, RAW IS (0, 0, 255)\n",
      "Color at cursor position (128, 358): ONE, RAW IS (0, 0, 255)\n",
      "Color at cursor position (128, 378): ONE, RAW IS (0, 0, 255)\n",
      "Color at cursor position (128, 398): OPENED, RAW IS (192, 192, 192)\n",
      "Color at cursor position (148, 238): OPENED, RAW IS (192, 192, 192)\n",
      "Color at cursor position (148, 258): ONE, RAW IS (0, 0, 255)\n",
      "Color at cursor position (148, 278): MINE, RAW IS (76, 0, 0)\n",
      "Color at cursor position (148, 298): ONE, RAW IS (0, 0, 255)\n",
      "Color at cursor position (148, 318): OPENED, RAW IS (192, 192, 192)\n",
      "Color at cursor position (148, 338): ONE, RAW IS (0, 0, 255)\n",
      "Color at cursor position (148, 358): MINE, RAW IS (54, 54, 54)\n",
      "Color at cursor position (148, 378): TWO, RAW IS (0, 128, 0)\n",
      "Color at cursor position (148, 398): ONE, RAW IS (0, 0, 255)\n"
     ]
    },
    {
     "ename": "KeyboardInterrupt",
     "evalue": "",
     "output_type": "error",
     "traceback": [
      "\u001b[1;31m---------------------------------------------------------------------------\u001b[0m",
      "\u001b[1;31mKeyboardInterrupt\u001b[0m                         Traceback (most recent call last)",
      "Cell \u001b[1;32mIn[8], line 59\u001b[0m\n\u001b[0;32m     57\u001b[0m \u001b[38;5;28;01mif\u001b[39;00m dx \u001b[38;5;241m==\u001b[39m \u001b[38;5;241m0\u001b[39m \u001b[38;5;129;01mand\u001b[39;00m dy \u001b[38;5;241m==\u001b[39m \u001b[38;5;241m0\u001b[39m:\n\u001b[0;32m     58\u001b[0m     \u001b[38;5;28;01mcontinue\u001b[39;00m\n\u001b[1;32m---> 59\u001b[0m pixel_color \u001b[38;5;241m=\u001b[39m \u001b[43mget_pixel_color\u001b[49m\u001b[43m(\u001b[49m\u001b[43mi\u001b[49m\u001b[43m \u001b[49m\u001b[38;5;241;43m+\u001b[39;49m\u001b[43m \u001b[49m\u001b[43mdx\u001b[49m\u001b[43m,\u001b[49m\u001b[43m \u001b[49m\u001b[43mj\u001b[49m\u001b[43m \u001b[49m\u001b[38;5;241;43m+\u001b[39;49m\u001b[43m \u001b[49m\u001b[43mdy\u001b[49m\u001b[43m)\u001b[49m\n\u001b[0;32m     60\u001b[0m \u001b[38;5;28;01mif\u001b[39;00m pixel_color \u001b[38;5;241m==\u001b[39m ONE:\n\u001b[0;32m     61\u001b[0m     color_name \u001b[38;5;241m=\u001b[39m \u001b[38;5;124m\"\u001b[39m\u001b[38;5;124mONE\u001b[39m\u001b[38;5;124m\"\u001b[39m\n",
      "Cell \u001b[1;32mIn[8], line 39\u001b[0m, in \u001b[0;36mget_pixel_color\u001b[1;34m(x, y)\u001b[0m\n\u001b[0;32m     38\u001b[0m \u001b[38;5;28;01mdef\u001b[39;00m \u001b[38;5;21mget_pixel_color\u001b[39m(x, y):\n\u001b[1;32m---> 39\u001b[0m     screenshot \u001b[38;5;241m=\u001b[39m \u001b[43mImageGrab\u001b[49m\u001b[38;5;241;43m.\u001b[39;49m\u001b[43mgrab\u001b[49m\u001b[43m(\u001b[49m\u001b[43mbbox\u001b[49m\u001b[38;5;241;43m=\u001b[39;49m\u001b[43m(\u001b[49m\u001b[43mx\u001b[49m\u001b[43m,\u001b[49m\u001b[43m \u001b[49m\u001b[43my\u001b[49m\u001b[43m,\u001b[49m\u001b[43m \u001b[49m\u001b[43mx\u001b[49m\u001b[38;5;241;43m+\u001b[39;49m\u001b[38;5;241;43m1\u001b[39;49m\u001b[43m,\u001b[49m\u001b[43m \u001b[49m\u001b[43my\u001b[49m\u001b[38;5;241;43m+\u001b[39;49m\u001b[38;5;241;43m1\u001b[39;49m\u001b[43m)\u001b[49m\u001b[43m)\u001b[49m\n\u001b[0;32m     40\u001b[0m     color \u001b[38;5;241m=\u001b[39m screenshot\u001b[38;5;241m.\u001b[39mgetpixel((\u001b[38;5;241m0\u001b[39m, \u001b[38;5;241m0\u001b[39m))\n\u001b[0;32m     41\u001b[0m     \u001b[38;5;28;01mreturn\u001b[39;00m color\n",
      "File \u001b[1;32mc:\\Users\\hi\\AppData\\Local\\Programs\\Python\\Python312\\Lib\\site-packages\\PIL\\ImageGrab.py:51\u001b[0m, in \u001b[0;36mgrab\u001b[1;34m(bbox, include_layered_windows, all_screens, xdisplay)\u001b[0m\n\u001b[0;32m     47\u001b[0m \u001b[38;5;28;01melif\u001b[39;00m sys\u001b[38;5;241m.\u001b[39mplatform \u001b[38;5;241m==\u001b[39m \u001b[38;5;124m\"\u001b[39m\u001b[38;5;124mwin32\u001b[39m\u001b[38;5;124m\"\u001b[39m:\n\u001b[0;32m     48\u001b[0m     offset, size, data \u001b[38;5;241m=\u001b[39m Image\u001b[38;5;241m.\u001b[39mcore\u001b[38;5;241m.\u001b[39mgrabscreen_win32(\n\u001b[0;32m     49\u001b[0m         include_layered_windows, all_screens\n\u001b[0;32m     50\u001b[0m     )\n\u001b[1;32m---> 51\u001b[0m     im \u001b[38;5;241m=\u001b[39m \u001b[43mImage\u001b[49m\u001b[38;5;241;43m.\u001b[39;49m\u001b[43mfrombytes\u001b[49m\u001b[43m(\u001b[49m\n\u001b[0;32m     52\u001b[0m \u001b[43m        \u001b[49m\u001b[38;5;124;43m\"\u001b[39;49m\u001b[38;5;124;43mRGB\u001b[39;49m\u001b[38;5;124;43m\"\u001b[39;49m\u001b[43m,\u001b[49m\n\u001b[0;32m     53\u001b[0m \u001b[43m        \u001b[49m\u001b[43msize\u001b[49m\u001b[43m,\u001b[49m\n\u001b[0;32m     54\u001b[0m \u001b[43m        \u001b[49m\u001b[43mdata\u001b[49m\u001b[43m,\u001b[49m\n\u001b[0;32m     55\u001b[0m \u001b[43m        \u001b[49m\u001b[38;5;66;43;03m# RGB, 32-bit line padding, origin lower left corner\u001b[39;49;00m\n\u001b[0;32m     56\u001b[0m \u001b[43m        \u001b[49m\u001b[38;5;124;43m\"\u001b[39;49m\u001b[38;5;124;43mraw\u001b[39;49m\u001b[38;5;124;43m\"\u001b[39;49m\u001b[43m,\u001b[49m\n\u001b[0;32m     57\u001b[0m \u001b[43m        \u001b[49m\u001b[38;5;124;43m\"\u001b[39;49m\u001b[38;5;124;43mBGR\u001b[39;49m\u001b[38;5;124;43m\"\u001b[39;49m\u001b[43m,\u001b[49m\n\u001b[0;32m     58\u001b[0m \u001b[43m        \u001b[49m\u001b[43m(\u001b[49m\u001b[43msize\u001b[49m\u001b[43m[\u001b[49m\u001b[38;5;241;43m0\u001b[39;49m\u001b[43m]\u001b[49m\u001b[43m \u001b[49m\u001b[38;5;241;43m*\u001b[39;49m\u001b[43m \u001b[49m\u001b[38;5;241;43m3\u001b[39;49m\u001b[43m \u001b[49m\u001b[38;5;241;43m+\u001b[39;49m\u001b[43m \u001b[49m\u001b[38;5;241;43m3\u001b[39;49m\u001b[43m)\u001b[49m\u001b[43m \u001b[49m\u001b[38;5;241;43m&\u001b[39;49m\u001b[43m \u001b[49m\u001b[38;5;241;43m-\u001b[39;49m\u001b[38;5;241;43m4\u001b[39;49m\u001b[43m,\u001b[49m\n\u001b[0;32m     59\u001b[0m \u001b[43m        \u001b[49m\u001b[38;5;241;43m-\u001b[39;49m\u001b[38;5;241;43m1\u001b[39;49m\u001b[43m,\u001b[49m\n\u001b[0;32m     60\u001b[0m \u001b[43m    \u001b[49m\u001b[43m)\u001b[49m\n\u001b[0;32m     61\u001b[0m     \u001b[38;5;28;01mif\u001b[39;00m bbox:\n\u001b[0;32m     62\u001b[0m         x0, y0 \u001b[38;5;241m=\u001b[39m offset\n",
      "File \u001b[1;32mc:\\Users\\hi\\AppData\\Local\\Programs\\Python\\Python312\\Lib\\site-packages\\PIL\\Image.py:2944\u001b[0m, in \u001b[0;36mfrombytes\u001b[1;34m(mode, size, data, decoder_name, *args)\u001b[0m\n\u001b[0;32m   2940\u001b[0m         color \u001b[38;5;241m=\u001b[39m im\u001b[38;5;241m.\u001b[39mpalette\u001b[38;5;241m.\u001b[39mgetcolor(color)\n\u001b[0;32m   2941\u001b[0m     \u001b[38;5;28;01mreturn\u001b[39;00m im\u001b[38;5;241m.\u001b[39m_new(core\u001b[38;5;241m.\u001b[39mfill(mode, size, color))\n\u001b[1;32m-> 2944\u001b[0m \u001b[38;5;28;01mdef\u001b[39;00m \u001b[38;5;21mfrombytes\u001b[39m(mode, size, data, decoder_name\u001b[38;5;241m=\u001b[39m\u001b[38;5;124m\"\u001b[39m\u001b[38;5;124mraw\u001b[39m\u001b[38;5;124m\"\u001b[39m, \u001b[38;5;241m*\u001b[39margs) \u001b[38;5;241m-\u001b[39m\u001b[38;5;241m>\u001b[39m Image:\n\u001b[0;32m   2945\u001b[0m \u001b[38;5;250m    \u001b[39m\u001b[38;5;124;03m\"\"\"\u001b[39;00m\n\u001b[0;32m   2946\u001b[0m \u001b[38;5;124;03m    Creates a copy of an image memory from pixel data in a buffer.\u001b[39;00m\n\u001b[0;32m   2947\u001b[0m \n\u001b[1;32m   (...)\u001b[0m\n\u001b[0;32m   2965\u001b[0m \u001b[38;5;124;03m    :returns: An :py:class:`~PIL.Image.Image` object.\u001b[39;00m\n\u001b[0;32m   2966\u001b[0m \u001b[38;5;124;03m    \"\"\"\u001b[39;00m\n\u001b[0;32m   2968\u001b[0m     _check_size(size)\n",
      "\u001b[1;31mKeyboardInterrupt\u001b[0m: "
     ]
    }
   ],
   "source": [
    "import pyautogui\n",
    "import time\n",
    "import keyboard\n",
    "from PIL import ImageGrab\n",
    "\n",
    "# Define the RGB values as constants\n",
    "ONE = (0, 0, 255)\n",
    "TWO = (0,128,0)\n",
    "THREE = (255, 0, 0)\n",
    "UNOPENED = (192, 192, 192)\n",
    "OPENED = (192, 192, 192)\n",
    "MINE = (0,0,0)\n",
    "\n",
    "# Create a hashmap to store the RGB values\n",
    "color_map = {\n",
    "    THREE: \"THREE\",\n",
    "    TWO: \"TWO\",\n",
    "    ONE: \"ONE\",\n",
    "    UNOPENED: \"UNOPENED\",\n",
    "    OPENED: \"OPENED\",\n",
    "    MINE: \"MINE\"\n",
    "}\n",
    "\n",
    "# Use pyautogui to perform actions\n",
    "pyautogui.click(x=208, y=188)  # Click at coordinates (x=100, y=100)\n",
    "\n",
    "time.sleep(2)\n",
    "\n",
    "def get_pixel_color(x, y):\n",
    "    screenshot = ImageGrab.grab(bbox=(x, y, x+1, y+1))\n",
    "    color = screenshot.getpixel((0, 0))\n",
    "    return color\n",
    "\n",
    "for i in range(128, 128+9*20, 20):\n",
    "    for j in range(238, 238+9*20, 20):\n",
    "        pyautogui.click(x=i, y=j)\n",
    "        # Get RGB values at the cursor position\n",
    "        pixel_color = get_pixel_color(i, j)\n",
    "\n",
    "        ogCords = (i, j)\n",
    "        # Query the hashmap to get the corresponding color\n",
    "        color_name = color_map.get(pixel_color, \"Unknown\")\n",
    "\n",
    "        for dx in range(-5, 5):\n",
    "            for dy in range(-5, 5):\n",
    "                if dx == 0 and dy == 0:\n",
    "                    continue\n",
    "                pixel_color = get_pixel_color(i + dx, j + dy)\n",
    "                if pixel_color == ONE:\n",
    "                    color_name = \"ONE\"\n",
    "                    pyautogui.click(x=ogCords[0], y=ogCords[1])\n",
    "                    break\n",
    "                if pixel_color == TWO:\n",
    "                    color_name = \"TWO\"\n",
    "                    pyautogui.click(x=ogCords[0], y=ogCords[1])\n",
    "                    break\n",
    "                if pixel_color == THREE:\n",
    "                    color_name = \"THREE\"\n",
    "                    pyautogui.click(x=ogCords[0], y=ogCords[1])\n",
    "                    break                 \n",
    "\n",
    "        print(f\"Color at cursor position ({i}, {j}): {color_name}, RAW IS {pixel_color}\")\n",
    "        time.sleep(1)\n",
    "        "
   ]
  }
 ],
 "metadata": {
  "kernelspec": {
   "display_name": "Python 3",
   "language": "python",
   "name": "python3"
  },
  "language_info": {
   "codemirror_mode": {
    "name": "ipython",
    "version": 3
   },
   "file_extension": ".py",
   "mimetype": "text/x-python",
   "name": "python",
   "nbconvert_exporter": "python",
   "pygments_lexer": "ipython3",
   "version": "3.12.1"
  }
 },
 "nbformat": 4,
 "nbformat_minor": 2
}
